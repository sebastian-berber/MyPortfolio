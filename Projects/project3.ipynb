{
  "cells": [
    {
      "cell_type": "raw",
      "metadata": {},
      "source": [
        "---\n",
        "title: \"Client Report - Finding relationships in baseball\"\n",
        "subtitle: \"Course DS 250\"\n",
        "author: \"Sebastian Berber\"\n",
        "format:\n",
        "  html:\n",
        "    self-contained: true\n",
        "    page-layout: full\n",
        "    title-block-banner: true\n",
        "    toc: true\n",
        "    toc-depth: 3\n",
        "    toc-location: body\n",
        "    number-sections: false\n",
        "    html-math-method: katex\n",
        "    code-fold: true\n",
        "    code-summary: \"Show the code\"\n",
        "    code-overflow: wrap\n",
        "    code-copy: hover\n",
        "    code-tools:\n",
        "        source: false\n",
        "        toggle: true\n",
        "        caption: See code\n",
        "execute: \n",
        "  warning: false\n",
        "    \n",
        "---"
      ],
      "id": "1bb46fe2"
    },
    {
      "cell_type": "code",
      "metadata": {},
      "source": [
        "#| label: libraries\n",
        "#| include: false\n",
        "import pandas as pd\n",
        "import numpy as np\n",
        "import plotly.express as px\n",
        "import sqlite3"
      ],
      "id": "libraries",
      "execution_count": null,
      "outputs": []
    },
    {
      "cell_type": "markdown",
      "metadata": {},
      "source": [
        "## Elevator pitch\n",
        "\n",
        "_paste your elevator pitch here_\n",
        "_A SHORT (4-5 SENTENCES) PARAGRAPH THAT `DESCRIBES KEY INSIGHTS` TAKEN FROM METRICS IN THE PROJECT RESULTS THINK TOP OR MOST IMPORTANT RESULTS._\n"
      ],
      "id": "88dea8a3"
    },
    {
      "cell_type": "code",
      "metadata": {},
      "source": [
        "#| label: project data\n",
        "#| code-summary: Read and format project data\n",
        "# Include and execute your code here\n",
        "\n",
        "sqlite_file = 'lahmansbaseballdb.sqlite'\n",
        "con = sqlite3.connect(sqlite_file)"
      ],
      "id": "project-data",
      "execution_count": null,
      "outputs": []
    },
    {
      "cell_type": "markdown",
      "metadata": {},
      "source": [
        "## QUESTION|TASK 1\n",
        "\n",
        "__Write an SQL query to create a new dataframe about baseball players who attended BYU-Idaho. The new table should contain five columns: playerID, schoolID, salary, and the yearID/teamID associated with each salary. Order the table by salary (highest to lowest) and print out the table in your report.__\n"
      ],
      "id": "c6cce2ec"
    },
    {
      "cell_type": "code",
      "metadata": {},
      "source": [
        "#| label: Q1\n",
        "#| code-summary: Read and format data\n",
        "# Include and execute your code here\n",
        "\n",
        "q = '''\n",
        "    SELECT DISTINCT p.playerID\n",
        "    ,      cp.schoolID\n",
        "    ,      salary\n",
        "    ,      s.yearID\n",
        "    ,      s.teamID\n",
        "    FROM people p\n",
        "    LEFT JOIN collegeplaying cp\n",
        "      ON cp.playerID = p.playerID\n",
        "    LEFT JOIN salaries s\n",
        "      ON p.playerID = s.playerID\n",
        "    WHERE cp.schoolID = 'idbyuid'\n",
        "    ORDER BY salary DESC\n",
        "'''\n",
        "# comment\n",
        "results1 = pd.read_sql_query(q, con)\n",
        "\n",
        "results1"
      ],
      "id": "Q1",
      "execution_count": null,
      "outputs": []
    },
    {
      "cell_type": "markdown",
      "metadata": {},
      "source": [
        "## QUESTION|TASK 2\n",
        "\n",
        "__This three-part question requires you to calculate batting average (number of hits divided by the number of at-bats)__\n",
        "\n",
        "_a. Write an SQL query that provides playerID, yearID, and batting average for players with at least 1 at bat that year. Sort the table from highest batting average to lowest, and then by playerid alphabetically. Show the top 5 results in your report._\n"
      ],
      "id": "99688c89"
    },
    {
      "cell_type": "code",
      "metadata": {},
      "source": [
        "#| label: Q2a\n",
        "#| code-summary: Read and format data\n",
        "# Include and execute your code here\n",
        "\n",
        "q = '''\n",
        "    SELECT playerID\n",
        "    ,      yearID\n",
        "    ,      ((1.0 * H) / AB) AS 'Batting_Average'\n",
        "    FROM batting\n",
        "    WHERE AB >= 1\n",
        "    ORDER BY ((1.0 * H) / AB) DESC, playerid\n",
        "    LIMIT 5\n",
        "'''\n",
        "\n",
        "results2 = pd.read_sql_query(q, con)\n",
        "\n",
        "results2"
      ],
      "id": "Q2a",
      "execution_count": null,
      "outputs": []
    },
    {
      "cell_type": "markdown",
      "metadata": {},
      "source": [
        "_b. Use the same query as above, but only include players with at least 10 at bats that year. Print the top 5 results._\n"
      ],
      "id": "92312603"
    },
    {
      "cell_type": "code",
      "metadata": {},
      "source": [
        "#| label: Q2b\n",
        "#| code-summary: Read and format data\n",
        "# Include and execute your code here\n",
        "\n",
        "q = '''\n",
        "    SELECT playerID\n",
        "    ,      yearID\n",
        "    ,      ((1.0 * H) / AB) AS 'Batting_Average'\n",
        "    FROM batting\n",
        "    WHERE AB >= 10\n",
        "    ORDER BY Batting_Average DESC, playerid\n",
        "    LIMIT 5\n",
        "'''\n",
        "\n",
        "results3 = pd.read_sql_query(q, con)\n",
        "\n",
        "results3"
      ],
      "id": "Q2b",
      "execution_count": null,
      "outputs": []
    },
    {
      "cell_type": "markdown",
      "metadata": {},
      "source": [
        "_c. Now calculate the batting average for players over their entire careers (all years combined). Only include players with at least 100 at bats, and print the top 5 results._\n"
      ],
      "id": "383662cb"
    },
    {
      "cell_type": "code",
      "metadata": {},
      "source": [
        "#| label: Q2c\n",
        "#| code-summary: Read and format data\n",
        "# Include and execute your code here\n",
        "\n",
        "q = '''\n",
        "    SELECT playerID\n",
        "    ,      SUM(H) AS 'Total_Hits'\n",
        "    ,      SUM(AB) AS 'Total_At_Bats'\n",
        "    ,      ((SUM(H) * 1.0) / SUM(AB)) AS 'Batting_Average'\n",
        "    FROM batting\n",
        "    GROUP BY playerID\n",
        "    HAVING SUM(AB) >= 100\n",
        "    LIMIT 5\n",
        "'''\n",
        "\n",
        "results4 = pd.read_sql_query(q, con)\n",
        "\n",
        "results4\n"
      ],
      "id": "Q2c",
      "execution_count": null,
      "outputs": []
    },
    {
      "cell_type": "markdown",
      "metadata": {},
      "source": [
        "## QUESTION|TASK 3\n",
        "\n",
        "__Pick any two baseball teams and compare them using a metric of your choice (average salary, home runs, number of wins, etc). Write an SQL query to get the data you need, then make a graph using Plotly Express to visualize the comparison. What do you learn?__\n"
      ],
      "id": "b2544d54"
    },
    {
      "cell_type": "code",
      "metadata": {},
      "source": [
        "#| label: Q3\n",
        "#| code-summary: Read and format data\n",
        "# Include and execute your code here\n",
        "\n",
        "q1 = '''\n",
        "    SELECT w, l\n",
        "    FROM teams\n",
        "    '''\n",
        "\n",
        "results5 = pd.read_sql_query(q1, con)\n",
        "\n",
        "results5"
      ],
      "id": "Q3",
      "execution_count": null,
      "outputs": []
    },
    {
      "cell_type": "code",
      "metadata": {},
      "source": [
        "#| label: Q3\n",
        "#| code-summary: Read and format data\n",
        "# Include and execute your code here\n",
        "\n",
        "q = '''\n",
        "    SELECT name\n",
        "    ,      W AS 'Wins'\n",
        "    ,      L AS 'Losses'\n",
        "    ,      (SUM(W) + SUM(L)) AS 'Total_Games'\n",
        "    ,      ((SUM(W) * 1.0) / (SUM(W) + SUM(L))) AS 'Win_Rate'\n",
        "    FROM teams\n",
        "    GROUP BY teamID\n",
        "    ORDER BY Win_Rate DESC\n",
        "'''\n",
        "\n",
        "results5 = pd.read_sql_query(q, con)\n",
        "\n",
        "results5"
      ],
      "id": "Q3",
      "execution_count": null,
      "outputs": []
    },
    {
      "cell_type": "markdown",
      "metadata": {},
      "source": [
        "__Above is a chart of teams from the history of baseball. It consist of it's win/loss ratio to let us know how each team did against it's competition. Below is a scatter plot that shows us all of the teams and how they did with their Win Loss Ratio. As we can see, we have emphasized The Boston Red Sox and The New York Yankees. From what we can see in the graph, the New York Yankees tend to have more win per loss than the Boston Red Sox.__\n"
      ],
      "id": "7a1d8ec4"
    },
    {
      "cell_type": "code",
      "metadata": {},
      "source": [
        "query = '''\n",
        "    SELECT * \n",
        "    FROM teams\n",
        "    '''\n",
        "\n",
        "df['Team_Type'] = df['teamID'].apply(lambda x: 'Boston Red Sox' if x == 'BOS' else ('New York Yankees' if x == 'NYA' else 'Other'))\n",
        "\n",
        "color_map = {'Boston Red Sox': 'red',\n",
        "             'New York Yankees': 'blue',\n",
        "             'Other': 'gray'}\n",
        "\n",
        "fig = px.scatter(df, x='W', y='L', color='Team_Type', color_discrete_map=color_map, hover_name='yearID', hover_data={'W': True, 'L': True})\n",
        "\n",
        "# Update layout for better visualization\n",
        "fig.update_layout(title='Baseball Teams Win-Loss Scatter Plot',\n",
        "                  xaxis_title='Wins', yaxis_title='Losses',\n",
        "                  legend_title='Team', hovermode='closest')\n",
        "\n",
        "fig.show()"
      ],
      "id": "6d3a7963",
      "execution_count": null,
      "outputs": []
    }
  ],
  "metadata": {
    "kernelspec": {
      "name": "python3",
      "language": "python",
      "display_name": "Python 3 (ipykernel)"
    }
  },
  "nbformat": 4,
  "nbformat_minor": 5
}