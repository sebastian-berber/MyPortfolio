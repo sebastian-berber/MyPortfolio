{
  "cells": [
    {
      "cell_type": "raw",
      "metadata": {},
      "source": [
        "---\n",
        "title: \"Client Report - Late flights and Missing Data\"\n",
        "subtitle: \"Course DS 250\"\n",
        "author: \"Sebastian Berber\"\n",
        "format:\n",
        "  html:\n",
        "    self-contained: true\n",
        "    page-layout: full\n",
        "    title-block-banner: true\n",
        "    toc: true\n",
        "    toc-depth: 3\n",
        "    toc-location: body\n",
        "    number-sections: false\n",
        "    html-math-method: katex\n",
        "    code-fold: true\n",
        "    code-summary: \"Show the code\"\n",
        "    code-overflow: wrap\n",
        "    code-copy: hover\n",
        "    code-tools:\n",
        "        source: false\n",
        "        toggle: true\n",
        "        caption: See code\n",
        "execute: \n",
        "  warning: false\n",
        "    \n",
        "---"
      ],
      "id": "977375c3"
    },
    {
      "cell_type": "code",
      "metadata": {},
      "source": [
        "#| label: libraries\n",
        "#| include: false\n",
        "import pandas as pd\n",
        "import numpy as np\n",
        "import plotly.express as px"
      ],
      "id": "libraries",
      "execution_count": null,
      "outputs": []
    },
    {
      "cell_type": "markdown",
      "metadata": {},
      "source": [
        "## Elevator pitch\n",
        "\n",
        "_I recived the data from the airports and had to fix it up so I could comfortably analyze the data. I was able to find out the answers to your questions and I found some suprising insights. From the looks of it, the proportions of delays for flights is actually very high. There are various variables or reasons a flight can be delayed but weather has the biggest impact._\n"
      ],
      "id": "0bedbdee"
    },
    {
      "cell_type": "code",
      "metadata": {},
      "source": [
        "#| label: project data\n",
        "#| code-summary: Read and format project data\n",
        "# Include and execute your code here\n",
        "df = pd.read_json(\"https://raw.githubusercontent.com/byuidatascience/data4missing/master/data-raw/flights_missing/flights_missing.json\")"
      ],
      "id": "project-data",
      "execution_count": null,
      "outputs": []
    },
    {
      "cell_type": "code",
      "metadata": {},
      "source": [
        "def missing_checks(df, column ):\n",
        "    out1 = df[column].isnull().sum(axis = 0)\n",
        "    out2 = df[column].describe()\n",
        "    out3 = df[column].describe(exclude=np.number)\n",
        "    print('\\n\\n\\n')\n",
        "    print('Checking column' + column)\n",
        "    print('\\n')\n",
        "    print('Missing summary')\n",
        "    print(out1)\n",
        "    print('\\n')\n",
        "    print(\"Numeric summaries\")\n",
        "    print(out2)\n",
        "    print('\\n')\n",
        "    print('Non Numeric summaries')\n",
        "    print(out3)"
      ],
      "id": "6d68f037",
      "execution_count": null,
      "outputs": []
    },
    {
      "cell_type": "markdown",
      "metadata": {},
      "source": [
        "__Highlight the Questions and Tasks__\n",
        "\n",
        "## QUESTION|TASK 1\n",
        "\n",
        "__Fix all of the varied missing data types in the data to be consistent (all missing values should be displayed as “NaN”). In your report include one record example (one row) from your new data, in the raw JSON format. Your example should display the “NaN” for at least one missing value.__\n",
        "\n",
        "_type your results and analysis here_\n"
      ],
      "id": "bc84f151"
    },
    {
      "cell_type": "code",
      "metadata": {},
      "source": [
        "df_clean = df"
      ],
      "id": "f55822dd",
      "execution_count": null,
      "outputs": []
    },
    {
      "cell_type": "code",
      "metadata": {},
      "source": [
        "df_clean.month.replace(['NaN', 'n/a'], np.nan, inplace = True)\n",
        "df_clean.month.replace('Febuary', 'February', inplace = True)\n",
        "mean = round(df_clean.minutes_delayed_carrier.mean(), 2)\n",
        "df_clean.minutes_delayed_carrier.replace(np.nan, mean, inplace = True)\n",
        "df_clean.num_of_delays_late_aircraft.replace(-999, 0, inplace = True)\n",
        "df_clean.num_of_delays_carrier.replace(\"1500+\", 1500, inplace= True)\n",
        "df_clean.airport_name.replace('', 'Washington, DC: Washington Dulles International', inplace = True)\n",
        "\n",
        "df_clean.month = df_clean.month.replace('n/a', np.nan)\n",
        "df_clean[\"month\"] = df_clean[\"month\"].ffill()\n",
        "\n",
        "df_clean"
      ],
      "id": "4d003817",
      "execution_count": null,
      "outputs": []
    },
    {
      "cell_type": "markdown",
      "metadata": {},
      "source": [
        "## QUESTION|TASK 2\n",
        "\n",
        "__Which airport has the worst delays? Discuss the metric you chose, and why you chose it to determine the “worst” airport. Your answer should include a summary table that lists (for each airport) the total number of flights, total number of delayed flights, proportion of delayed flights, and average delay time in hours.__\n",
        "\n",
        "_From the plots that we have below, I think that everybody hates waiting for delayed flights. I think a good measure of deciding which airport is the 'worst' would be to look at the average delay time (in hours) that each delayed flight causes and also the proportion of total flights that are delayed. If we rank these airports based on this criteria, The Chicago O'Hare International (ORD) airport and the San Francisco International (SFO) airport both rank poorly based on these metrics (as they rank both 7th and 8th for both of the metric ranks)_\n"
      ],
      "id": "9e4799b4"
    },
    {
      "cell_type": "code",
      "metadata": {},
      "source": [
        "#| label: Q2\n",
        "#| code-summary: Read and format data\n",
        "# Include and execute your code here\n",
        "df_clean2 = df_clean\n",
        "\n",
        "df_clean2['prop_delayed_flights'] = df_clean2['num_of_delays_total'] / df_clean2['num_of_flights_total']\n",
        "\n",
        "df_clean2['avg_delay_hour'] = (df_clean2['minutes_delayed_total'] / df_clean2['num_of_delays_total']) / 60\n",
        "\n",
        "worst = df_clean2.filter(['airport_code', 'airport_name', 'month', 'year', 'num_of_flights_total', 'num_of_delays_total', 'prop_delayed_flights', 'avg_delay_hour'])\n",
        "\n",
        "worst.head(10)\n",
        "\n",
        "px.bar(worst, x = 'airport_code', y =  ['num_of_flights_total', 'num_of_delays_total'], barmode = 'group')\n",
        "\n",
        "hour = worst.groupby('airport_code')['avg_delay_hour'].mean()\n",
        "fig1 = px.bar(hour)\n",
        "fig1.update_xaxes(title = \"Airport\")\n",
        "fig1.update_yaxes(title = \"Hours\")\n",
        "fig1.show()\n",
        "\n",
        "prop = worst.groupby('airport_code')['prop_delayed_flights'].mean()\n",
        "fig2 = px.bar(prop)\n",
        "fig2.update_xaxes(title = \"Airport\")\n",
        "fig2.update_yaxes(title = \"Proportion of Delayed Flights\")\n",
        "fig2.show()\n",
        "\n",
        "\n",
        "# columns_to_calculate = [\n",
        "#     ('minutes_delayed_carrier', 'num_of_delays_carrier', 'min/delay_carrier'),\n",
        "#     ('minutes_delayed_late_aircraft', 'num_of_delays_late_aircraft', 'min/delay_aircraft'),\n",
        "#     ('minutes_delayed_nas', 'num_of_delays_nas', 'min/delay_nas'),\n",
        "#     ('minutes_delayed_security', 'num_of_delays_security', 'min/delay_security'),\n",
        "#     ('minutes_delayed_weather', 'num_of_delays_weather', 'min/delay_weather'),\n",
        "#     ('minutes_delayed_total', 'num_of_delays_total', 'min/delay_total')\n",
        "# ]\n",
        "\n",
        "# for numerator_column, denominator_column, new_column in columns_to_calculate:\n",
        "#     df_clean2[new_column] = df_clean2[numerator_column] / df_clean2[denominator_column]"
      ],
      "id": "Q2",
      "execution_count": null,
      "outputs": []
    },
    {
      "cell_type": "markdown",
      "metadata": {},
      "source": [
        "## QUESTION|TASK 3\n",
        "\n",
        "__What is the best month to fly if you want to avoid delays of any length? Discuss the metric you chose and why you chose it to calculate your answer. Include one chart to help support your answer, with the x-axis ordered by month.__\n",
        "\n",
        "_If you want to avoid any delays in general, I would say to fly in November.The delay data from all of the Novembers are very similar to September but I would say that November barely beats September because of the slightly shorter range._\n"
      ],
      "id": "af3027fa"
    },
    {
      "cell_type": "code",
      "metadata": {},
      "source": [
        "#| label: Q3\n",
        "#| code-summary: Read and format data\n",
        "# Include and execute your code here\n",
        "df_clean3 = df_clean\n",
        "\n",
        "fig3 = px.box(df_clean3, x = 'month', y = 'prop_delayed_flights', title = \"Proportion of Flight Delays By Month\")\n",
        "fig3.update_xaxes(title = 'Months')\n",
        "fig3.update_yaxes(title = 'Proportions of Delayed Flights')\n",
        "fig3.show()\n",
        "\n",
        "# Group by 'month' column and calculate summary statistics\n",
        "summary_stats = df_clean3.groupby('month')['prop_delayed_flights'].describe(percentiles=[.25, .5, .75])\n",
        "\n",
        "# Rename columns for consistency with R's output\n",
        "summary_stats.rename(columns={'25%': 'Q1', '50%': 'med', '75%': 'Q3'}, inplace=True)\n",
        "\n",
        "# Select the desired summary statistics\n",
        "summary_stats = summary_stats[['min', 'Q1', 'med', 'Q3', 'max']]\n",
        "\n",
        "print(summary_stats)"
      ],
      "id": "Q3",
      "execution_count": null,
      "outputs": []
    },
    {
      "cell_type": "code",
      "metadata": {},
      "source": [
        "# Define the custom ordering of months\n",
        "# month_order = ['January', 'February', 'March', 'April', 'May', 'June', 'July', 'August', 'September', 'October', 'November', 'December']\n",
        "\n",
        "# # Convert the 'month' column to categorical with the custom ordering\n",
        "# df['month'] = pd.Categorical(df['month'], categories=month_order, ordered=True)\n",
        "\n",
        "# # Sort the DataFrame by the 'month' column\n",
        "# df_sorted = df.sort_values(by='month')\n",
        "\n",
        "# print(df_sorted)"
      ],
      "id": "a8edd7f2",
      "execution_count": null,
      "outputs": []
    },
    {
      "cell_type": "markdown",
      "metadata": {},
      "source": [
        "## QUESTION|TASK 4\n",
        "\n",
        "__According to the BTS website, the “Weather” category only accounts for severe weather delays. Mild weather delays are not counted in the “Weather” category, but are actually included in both the “NAS” and “Late-Arriving Aircraft” categories. Your job is to create a new column that calculates the total number of flights delayed by weather (both severe and mild). Use these three rules for your calculations:__\n",
        "\n",
        "__A. 100% of delayed flights in the Weather category are due to weather__\n",
        "\n",
        "__B. 30% of all delayed flights in the Late-Arriving category are due to weather.__\n",
        "\n",
        "__C. From April to August, 40% of delayed flights in the NAS category are due to weather. The rest of the months, the proportion rises to 65%.__\n"
      ],
      "id": "3ed5ebfb"
    },
    {
      "cell_type": "code",
      "metadata": {},
      "source": [
        "#%%\n",
        "flights = df \n",
        "\n",
        "weather = (flights.assign(\n",
        "    severe = flights.num_of_delays_weather, # no missing\n",
        "    nodla_nona = lambda x: (x.num_of_delays_late_aircraft\n",
        "        .replace(-999, np.nan)), #missing is -999\n",
        "    mild_late = lambda x: x.nodla_nona.fillna(x.nodla_nona.mean())*0.3,\n",
        "    mild = np.where( # like an if statement\n",
        "        flights.month.isin(['April', 'May', 'June', 'July', 'August']), \n",
        "            flights.num_of_delays_nas*0.4,\n",
        "            flights.num_of_delays_nas*0.65),\n",
        "    weather = lambda x: x.severe + x.mild_late + x.mild,\n",
        "    proportion_weather_delay = lambda x: x.weather / x.num_of_delays_total,\n",
        "    proportion_weather_total = lambda x:  x.weather / x.num_of_flights_total)\n",
        "    .filter(['airport_code','month','year', 'severe','mild', 'mild_late',\n",
        "    'weather', 'proportion_weather_total', \n",
        "    'proportion_weather_delay', 'num_of_flights_total', 'num_of_delays_total']))\n",
        "weather.head()"
      ],
      "id": "a57c4d89",
      "execution_count": null,
      "outputs": []
    },
    {
      "cell_type": "markdown",
      "metadata": {},
      "source": [
        "## QUESTION|TASK 5\n",
        "\n",
        "__Using the new weather variable calculated above, create a barplot showing the proportion of all flights that are delayed by weather at each airport. Discuss what you learn from this graph.__\n",
        "\n",
        "__From the looks of it, the smallest mean proportion of delays comes from the San Diego Airport while the largest mean proportion of delays comes from San Francisco. From the looks of it, all of the airports have around 30% of flights dealyed to weather which is a huge proportion if you think about it. That is around 1/3 of all flights total!__\n"
      ],
      "id": "1d7e3ccb"
    },
    {
      "cell_type": "code",
      "metadata": {},
      "source": [
        "prop_mean = weather.groupby('airport_code')['proportion_weather_delay'].mean()\n",
        "\n",
        "fig4 = px.bar(prop_mean, title = \"Mean Proportion of Delays Due To Weather For Each Airport\")\n",
        "fig4.update_xaxes(title = \"Airport\")\n",
        "fig4.update_yaxes(title = \"Proportion Of Weather Delays\")\n",
        "\n",
        "fig4.show()\n",
        "prop_mean"
      ],
      "id": "1584a845",
      "execution_count": null,
      "outputs": []
    }
  ],
  "metadata": {
    "kernelspec": {
      "name": "python3",
      "language": "python",
      "display_name": "Python 3 (ipykernel)"
    }
  },
  "nbformat": 4,
  "nbformat_minor": 5
}