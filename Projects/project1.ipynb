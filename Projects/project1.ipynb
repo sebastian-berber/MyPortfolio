{
  "cells": [
    {
      "cell_type": "raw",
      "metadata": {},
      "source": [
        "---\n",
        "title: \"Client Report - What's in a Name? \"\n",
        "subtitle: \"Course DS 250\"\n",
        "author: \"Sebastian Berber\"\n",
        "format:\n",
        "  html:\n",
        "    self-contained: true\n",
        "    page-layout: full\n",
        "    title-block-banner: true\n",
        "    toc: true\n",
        "    toc-depth: 3\n",
        "    toc-location: body\n",
        "    number-sections: false\n",
        "    html-math-method: katex\n",
        "    code-fold: true\n",
        "    code-summary: \"Show the code\"\n",
        "    code-overflow: wrap\n",
        "    code-copy: hover\n",
        "    code-tools:\n",
        "        source: false\n",
        "        toggle: true\n",
        "        caption: See code\n",
        "execute: \n",
        "  warning: false\n",
        "    \n",
        "---"
      ],
      "id": "88b3572c"
    },
    {
      "cell_type": "code",
      "metadata": {},
      "source": [
        "#| label: libraries\n",
        "#| include: false\n",
        "import pandas as pd\n",
        "import numpy as np\n",
        "import plotly.express as px"
      ],
      "id": "libraries",
      "execution_count": null,
      "outputs": []
    },
    {
      "cell_type": "markdown",
      "metadata": {},
      "source": [
        "## Elevator pitch\n",
        "\n",
        "_paste your elevator pitch here_\n",
        "_A SHORT (4-5 SENTENCES) PARAGRAPH THAT `DESCRIBES KEY INSIGHTS` TAKEN FROM METRICS IN THE PROJECT RESULTS THINK TOP OR MOST IMPORTANT RESULTS._\n"
      ],
      "id": "f4f131ec"
    },
    {
      "cell_type": "code",
      "metadata": {},
      "source": [
        "#| label: project data\n",
        "#| code-summary: Read and format project data\n",
        "# Include and execute your code here\n",
        "df = pd.read_csv(\"https://github.com/byuidatascience/data4names/raw/master/data-raw/names_year/names_year.csv\")"
      ],
      "id": "project-data",
      "execution_count": null,
      "outputs": []
    },
    {
      "cell_type": "code",
      "metadata": {},
      "source": [
        "filtered = df.query(\"name == 'Oliver'\")\n",
        "\n",
        "fig = filtered.filter([\"name\", \"UT\"]).sum()\n",
        "\n",
        "fig"
      ],
      "id": "a4d6c6c9",
      "execution_count": null,
      "outputs": []
    },
    {
      "cell_type": "code",
      "metadata": {},
      "source": [
        "name_fel = df.query(\"name == 'Felisha'\")\n",
        "\n",
        "fig = name_fel.filter([\"name\", \"year\", \"Total\"])\n",
        "fig1 = px.bar(name_fel,\n",
        "    x = \"year\",\n",
        "    y = \"Total\")\n",
        "\n",
        "fig1.update_xaxes(range=[1950, 2000])\n",
        "fig1"
      ],
      "id": "9238ac51",
      "execution_count": null,
      "outputs": []
    },
    {
      "cell_type": "markdown",
      "metadata": {},
      "source": [
        "__Highlight the Questions and Tasks__\n",
        "\n",
        "## QUESTION|TASK 1\n",
        "\n",
        "__How does your name at your birth year compare to its use historically?__\n",
        "\n",
        "_Historically speaking, The name sebastian dropped after the year 2002 but later peaked again in 2006 and continued to have an increase in frequency the following years. The name seemed to start to become popular after the year 2000._\n"
      ],
      "id": "3830ccf7"
    },
    {
      "cell_type": "code",
      "metadata": {},
      "source": [
        "#| label: Q1\n",
        "#| code-summary: Read and format data\n",
        "# Include and execute your code here\n",
        "data_sebastian = df.query(\"name == 'Sebastian'\")\n",
        "\n",
        "fig = px.bar(data_sebastian,\n",
        "    x = \"year\",\n",
        "    y = \"Total\",\n",
        "    title = \"Babies Named Sebastian by Year\")\n",
        "\n",
        "fig.update_xaxes(range=[1970, 2016],\n",
        "                 title_text='Year (1970-2015)')\n",
        "fig.update_yaxes(title_text='Frequency')\n",
        "\n",
        "fig.update_layout(\n",
        "    shapes=[\n",
        "        dict(\n",
        "            type='line',\n",
        "            x0=2002,\n",
        "            x1=2002,\n",
        "            y0=10000,\n",
        "            y1=max(data_sebastian['AK']),  # Adjust the y-coordinate range as needed\n",
        "            line=dict(color='red', width=2)\n",
        "        )\n",
        "    ]\n",
        ")\n",
        "\n",
        "fig.update_layout(\n",
        "    annotations=[\n",
        "        dict(\n",
        "            x=1993,  # X-coordinate of the annotation\n",
        "            y=9000,  # Y-coordinate of the annotation\n",
        "            text='Year I was born (2002)',\n",
        "            showarrow=False\n",
        "        )\n",
        "    ]\n",
        ")\n"
      ],
      "id": "Q1",
      "execution_count": null,
      "outputs": []
    },
    {
      "cell_type": "markdown",
      "metadata": {},
      "source": [
        "## QUESTION|TASK 2\n",
        "\n",
        "__If you talked to someone named Brittany on the phone, what is your guess of his or her age? What ages would you not guess?__\n",
        "\n",
        "_Well from the look of the graph, The name Brittany peaked in the year 1990 and it had 32,000 babies named Brittany that year. So I would guess that her age would've been 34. I would not guess her age to be 40 or older neither 25 or younger becuase those would be the ages of when Brittany was starting to become popular and when the name was starting to become less popular._\n"
      ],
      "id": "1fe240c6"
    },
    {
      "cell_type": "code",
      "metadata": {},
      "source": [
        "#| label: Q2\n",
        "#| code-summary: Read and format data\n",
        "# Include and execute your code here\n",
        "data_brittany = df.query(\"name == 'Brittany'\") \n",
        "\n",
        "fig = px.bar(data_brittany,\n",
        "    x = \"year\",\n",
        "    y = \"Total\",\n",
        "    title = \"Babies named Brittany by Birth Year\")\n",
        "\n",
        "fig.update_xaxes(range=[1970, 2016],\n",
        "                 title_text='Year (1970-2015)')\n",
        "fig.update_yaxes(title_text='Frequency')\n",
        "\n",
        "fig.show()"
      ],
      "id": "Q2",
      "execution_count": null,
      "outputs": []
    },
    {
      "cell_type": "markdown",
      "metadata": {},
      "source": [
        "## QUESTION|TASK 3\n",
        "\n",
        "__Mary, Martha, Peter, and Paul are all Christian names. From 1920 - 2000, compare the name usage of each of the four names. What trends do you notice?__\n",
        "\n",
        "_Well, from the graph, I can tell that the name trends became popular between 1940 and 1960. Mary had a huge portion of the trend but they all peacked between those times._\n"
      ],
      "id": "ae3638c0"
    },
    {
      "cell_type": "code",
      "metadata": {},
      "source": [
        "#| label: Q3\n",
        "#| code-summary: Read and format data\n",
        "# Include and execute your code here\n",
        "selected_names = ['Mary', 'Martha', 'Peter', 'Paul']\n",
        "filtered_df = df[(df['name'].isin(selected_names))]\n",
        "\n",
        "filtered_df1 = px.bar(filtered_df,\n",
        "    x = \"year\",\n",
        "    y = \"Total\",\n",
        "    color = \"name\")\n",
        "\n",
        "filtered_df1.update_xaxes(range=[1920, 2000])\n",
        "filtered_df1"
      ],
      "id": "Q3",
      "execution_count": null,
      "outputs": []
    },
    {
      "cell_type": "markdown",
      "metadata": {},
      "source": [
        "## QUESTION|TASK 4\n",
        "\n",
        "__Think of a unique name from a famous movie. Plot the usage of that name and see how changes line up with the movie release. Does it look like the movie had an effect on usage?__\n",
        "\n",
        "_type your results and analysis here_\n"
      ],
      "id": "34d0893f"
    },
    {
      "cell_type": "code",
      "metadata": {},
      "source": [
        "#| label: Q4\n",
        "#| code-summary: Read and format data\n",
        "# Include and execute your code here\n",
        "\n",
        "name_luke = df.query(\"name == 'Luke'\")\n",
        "\n",
        "fig = px.bar(name_luke,\n",
        "    x = \"year\",\n",
        "    y = \"Total\")\n",
        "\n",
        "\n",
        "fig.update_xaxes(range=[1975, 2015])\n",
        "fig.update_layout(\n",
        "    shapes=[\n",
        "        dict(\n",
        "            type='line',\n",
        "            yref='paper',\n",
        "            y0=0,\n",
        "            y1=1,\n",
        "            xref='x',\n",
        "            x0='1977',\n",
        "            x1='1977',\n",
        "            line=dict(color='yellow'),\n",
        "        ),\n",
        "        dict(\n",
        "            type='line',\n",
        "            yref='paper',\n",
        "            y0=0,\n",
        "            y1=1,\n",
        "            xref='x',\n",
        "            x0='1980',\n",
        "            x1='1980',\n",
        "            line=dict(color='red'),\n",
        "        ),\n",
        "        dict(\n",
        "            type='line',\n",
        "            yref='paper',\n",
        "            y0=0,\n",
        "            y1=1,\n",
        "            xref='x',\n",
        "            x0='1983',\n",
        "            x1='1983',\n",
        "            line=dict(color='green'),\n",
        "        )\n",
        "    ],\n",
        ")\n",
        "\n",
        "fig.show()"
      ],
      "id": "Q4",
      "execution_count": null,
      "outputs": []
    }
  ],
  "metadata": {
    "kernelspec": {
      "name": "python3",
      "language": "python",
      "display_name": "Python 3 (ipykernel)"
    }
  },
  "nbformat": 4,
  "nbformat_minor": 5
}